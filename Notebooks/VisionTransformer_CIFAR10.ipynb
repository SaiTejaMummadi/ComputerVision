{
  "nbformat": 4,
  "nbformat_minor": 0,
  "metadata": {
    "colab": {
      "provenance": []
    },
    "kernelspec": {
      "name": "python3",
      "display_name": "Python 3"
    },
    "language_info": {
      "name": "python"
    }
  },
  "cells": [
    {
      "cell_type": "code",
      "execution_count": null,
      "metadata": {
        "id": "oTWWg1ZqFVp6"
      },
      "outputs": [],
      "source": [
        "from torchvision import transforms\n",
        "from torchvision.datasets import CIFAR10\n",
        "import pytorch_lightning as pl\n",
        "import os\n",
        "import torch\n",
        "import torch.utils.data as data"
      ]
    },
    {
      "cell_type": "code",
      "source": [
        "# pip3 install  \"setuptools==59.5.0\" \"pytorch-lightning>=1.4\" \"matplotlib\" \"torch>=1.8\" \"ipython[notebook]\" \"torchmetrics>=0.7\" \"torchvision\" \"seaborn\""
      ],
      "metadata": {
        "id": "qn9MDe2yGvw6"
      },
      "execution_count": null,
      "outputs": []
    },
    {
      "cell_type": "code",
      "source": [
        "!pip install pytorch_lightning"
      ],
      "metadata": {
        "id": "Ny1QdF09Mcmb"
      },
      "execution_count": null,
      "outputs": []
    },
    {
      "cell_type": "code",
      "source": [
        "DATASET_PATH = os.environ.get(\"PATH_DATASETS\", \"/content/data\")"
      ],
      "metadata": {
        "id": "kxHmFYTOGyW6"
      },
      "execution_count": null,
      "outputs": []
    },
    {
      "cell_type": "code",
      "source": [
        "train_transform = transforms.Compose(\n",
        "    [\n",
        "        transforms.RandomHorizontalFlip(),\n",
        "        transforms.RandomResizedCrop(\n",
        "            (32,32), scale=(0.8,1.0), ratio=(0.9,1.1)),\n",
        "        transforms.ToTensor(),\n",
        "        transforms.Normalize([0.49,0.48,0.44],[0.24,0.24,0.26]),\n",
        "    ]\n",
        ")\n",
        "\n",
        "test_transform = transforms.Compose(\n",
        "    [\n",
        "        transforms.ToTensor(),\n",
        "        transforms.Normalize([0.49,0.48,0.44],[0.24,0.24,0.26]),\n",
        "    ]\n",
        ")"
      ],
      "metadata": {
        "id": "KB0_NY62HMp7"
      },
      "execution_count": null,
      "outputs": []
    },
    {
      "cell_type": "code",
      "source": [
        "train_dataset = CIFAR10(\n",
        "    root=DATASET_PATH, train=True, transform=train_transform, download=True)\n",
        "val_dataset = CIFAR10(\n",
        "    root=DATASET_PATH, train=True, transform=test_transform, download=True)\n",
        "test_set = CIFAR10(\n",
        "    root=DATASET_PATH, train=False, transform=test_transform, download=True)\n",
        "\n",
        "\n",
        "\n",
        "\n",
        "pl.seed_everything(42)\n",
        "train_set, _ = torch.utils.data.random_split(train_dataset, [45000, 5000])\n",
        "pl.seed_everything(42)\n",
        "_, val_set = torch.utils.data.random_split(val_dataset, [45000,5000])"
      ],
      "metadata": {
        "colab": {
          "base_uri": "https://localhost:8080/"
        },
        "id": "tzf2btGpJnbz",
        "outputId": "b7b07963-5137-481d-b0d4-b6f2994a21f9"
      },
      "execution_count": null,
      "outputs": [
        {
          "output_type": "stream",
          "name": "stdout",
          "text": [
            "Files already downloaded and verified\n",
            "Files already downloaded and verified\n",
            "Files already downloaded and verified\n"
          ]
        },
        {
          "output_type": "stream",
          "name": "stderr",
          "text": [
            "INFO:lightning_fabric.utilities.seed:Seed set to 42\n",
            "INFO:lightning_fabric.utilities.seed:Seed set to 42\n"
          ]
        }
      ]
    },
    {
      "cell_type": "code",
      "source": [
        "train_dataset = CIFAR10(\n",
        "    root=DATASET_PATH, train=True, download=True)\n",
        "test_set = CIFAR10(\n",
        "    root=DATASET_PATH, train=False, transform=test_transform, download=True)\n",
        "\n",
        "\n",
        "pl.seed_everything(42)\n",
        "train_set, val_set = torch.utils.data.random_split(train_dataset, [45000,5000])"
      ],
      "metadata": {
        "colab": {
          "base_uri": "https://localhost:8080/"
        },
        "id": "gdW0ySf8Mx3T",
        "outputId": "26d40c58-f5eb-417d-b6b4-6ca2a672321f"
      },
      "execution_count": null,
      "outputs": [
        {
          "output_type": "stream",
          "name": "stdout",
          "text": [
            "Files already downloaded and verified\n",
            "Files already downloaded and verified\n"
          ]
        }
      ]
    },
    {
      "cell_type": "code",
      "source": [
        "class TransformedDataset(data.Dataset):\n",
        "  def __init__(self, subset, transform=None):\n",
        "    self.subset = subset\n",
        "    self.transform = transform\n",
        "\n",
        "  def __getitem__(self, index):\n",
        "    x, y = self.subset[index]\n",
        "    if self.transform:\n",
        "      x = self.transform(x)\n",
        "    return x, y\n",
        "  def __len__(self):\n",
        "    return len(self.subset)\n",
        "\n",
        "train_set_transformed = TransformedDataset(train_set, transform=train_transform)"
      ],
      "metadata": {
        "id": "51uZHQuSKRys"
      },
      "execution_count": null,
      "outputs": []
    },
    {
      "cell_type": "code",
      "source": [
        "print(val_set)"
      ],
      "metadata": {
        "id": "AUk6UYo9ReTb"
      },
      "execution_count": null,
      "outputs": []
    },
    {
      "cell_type": "code",
      "source": [
        "import matplotlib.pyplot as plt\n",
        "import torchvision\n",
        "\n",
        "NUM_IMAGES = 4\n",
        "CIFAR_images = torch.stack(\n",
        "    [val_set[idx][0] for idx in range(NUM_IMAGES)], dim=0\n",
        ")\n",
        "\n",
        "img_grid = torchvision.utils.make_grid(\n",
        "    CIFAR_images, nrow=4, normalize= True, pad_value=0.9\n",
        ")\n",
        "\n",
        "img_grid = img_grid.permute(1,2,0)\n",
        "\n",
        "plt.figure(figsize=(8,8))\n",
        "plt.title(\"Image examples of the CIFAR10 dataset\")\n",
        "plt.imshow(img_grid)\n",
        "plt.axis(\"off\")\n",
        "plt.show()\n",
        "plt.close()\n",
        "\n"
      ],
      "metadata": {
        "colab": {
          "base_uri": "https://localhost:8080/",
          "height": 221
        },
        "id": "zsVsVTdEKRwM",
        "outputId": "f74dad83-1746-434b-a3c8-1e1afb832220"
      },
      "execution_count": null,
      "outputs": [
        {
          "output_type": "display_data",
          "data": {
            "text/plain": [
              "<Figure size 800x800 with 1 Axes>"
            ],
            "image/png": "[encoded data removed]"
          },
          "metadata": {}
        }
      ]
    },
    {
      "cell_type": "code",
      "source": [
        "train_loader = data.DataLoader(\n",
        "    train_set, batch_size=128,\n",
        "    shuffle=True, drop_last=True, pin_memory=True, num_workers=4)\n",
        "val_loader = data.DataLoader(\n",
        "    val_set, batch_size=128,\n",
        "    shuffle=False, drop_last=False, num_workers=4)\n",
        "test_loader = data.DataLoader(\n",
        "    test_set, batch_size=128,\n",
        "    shuffle=False, drop_last=False, num_workers=4)"
      ],
      "metadata": {
        "colab": {
          "base_uri": "https://localhost:8080/"
        },
        "id": "aRub2G67KRtr",
        "outputId": "29aa11dd-033d-4944-c72c-5305fa3f6a55"
      },
      "execution_count": null,
      "outputs": [
        {
          "output_type": "stream",
          "name": "stderr",
          "text": [
            "/usr/local/lib/python3.10/dist-packages/torch/utils/data/dataloader.py:617: UserWarning: This DataLoader will create 4 worker processes in total. Our suggested max number of worker in current system is 2, which is smaller than what this DataLoader is going to create. Please be aware that excessive worker creation might get DataLoader running slow or even freeze, lower the worker number to avoid potential slowness/freeze if necessary.\n",
            "  warnings.warn(\n"
          ]
        }
      ]
    },
    {
      "cell_type": "code",
      "source": [
        "#Tokenization\n",
        "\n",
        "def img_to_patch(x, patch_size, flatten_channels=True):\n",
        "  B, C, H, W = x.shape\n",
        "  x = x.reshape(\n",
        "      B,\n",
        "      C,\n",
        "      torch.div(H, patch_size, rounding_mode='trunc'),\n",
        "      patch_size,\n",
        "      torch.div(W, patch_size, rounding_mode='floor'),\n",
        "      patch_size,\n",
        "  )\n",
        "  x = x.permute(0,2,4,1,3,5) #[B, H', W', C, p_H, p_W]\n",
        "  x = x.flatten(1,2) #[B, H' * W', C, p_H, p_W]\n",
        "  if flatten_channels:\n",
        "    x = x.flatten(2,4) #[B, H' * W', C*p_H, p_W]\n",
        "  return x\n",
        "\n",
        "img_patches = img_to_patch(\n",
        "    CIFAR_images, patch_size=4, flatten_channels=False\n",
        "    )\n",
        "\n",
        "\n"
      ],
      "metadata": {
        "id": "bRi-9y_8So6E"
      },
      "execution_count": null,
      "outputs": []
    },
    {
      "cell_type": "code",
      "source": [
        "fig, ax = plt.subplots(CIFAR_images.shape[0],1,figsize=(14,3))\n",
        "fig.suptitle(\"Images as input sequences of patches\")\n",
        "\n",
        "for i in range(CIFAR_images.shape[0]):\n",
        "  img_grid = torchvision.utils.make_grid(\n",
        "      img_patches[i], nrow = 64, normalize=True, pad_value = 0.9)\n",
        "  img_grid = img_grid.permute(1,2,0)\n",
        "  ax[i].imshow(img_grid)\n",
        "  ax[i].axis(\"off\")\n",
        "plt.show()\n",
        "plt.close()\n"
      ],
      "metadata": {
        "id": "BFY6lVWiXVc9"
      },
      "execution_count": null,
      "outputs": []
    },
    {
      "cell_type": "code",
      "source": [
        "#Neural Net Module\n",
        "import torch.nn as nn\n",
        "\n",
        "class AttentionBlock(nn.Module):\n",
        "  def __init__(self, embed_dim, hidden_dim, num_heads, dropout=0.0):\n",
        "    super().__init__()\n",
        "    self.layer_norm_1 = nn.LayerNorm(embed_dim)\n",
        "    self.attn = nn.MultiheadAttention(embed_dim, num_heads)\n",
        "    self.layer_norm_2 = nn.LayerNorm(embed_dim)\n",
        "    self.linear = nn.Sequential(\n",
        "        nn.Linear(embed_dim, hidden_dim),\n",
        "        nn.GELU(),\n",
        "        nn.Dropout(dropout),\n",
        "        nn.Linear(hidden_dim, embed_dim),\n",
        "        nn.Dropout(dropout),\n",
        "    )\n",
        "\n",
        "  def forward(self, x):\n",
        "    inp_x = self.layer_norm_1(x)\n",
        "    x = x + self.attn(inp_x, inp_x, inp_x)[0]\n",
        "    x = x + self.linear(self.layer_norm_2(x))\n",
        "    return x\n",
        "\n"
      ],
      "metadata": {
        "id": "VV58sDqTptZw"
      },
      "execution_count": null,
      "outputs": []
    },
    {
      "cell_type": "code",
      "source": [
        "class VisionTransformer(nn.Module):\n",
        "  def __init__(\n",
        "      self,\n",
        "      embed_dim,\n",
        "      hidden_dim,\n",
        "      num_channels,\n",
        "      num_heads,\n",
        "      num_layers,\n",
        "      num_classes,\n",
        "      patch_size,\n",
        "      num_patches,\n",
        "      dropout= 0.0,\n",
        "  ):\n",
        "    super().__init__()\n",
        "    self.patch_size = patch_size\n",
        "\n",
        "    #Layers / Networks\n",
        "    self.input_layer = nn.Linear(\n",
        "        num_channels * (patch_size**2), embed_dim\n",
        "    )\n",
        "    self.transformer = nn.Sequential(\n",
        "        *(AttentionBlock(embed_dim, hidden_dim, num_heads, dropout = dropout) for _ in range(num_layers))\n",
        "    )\n",
        "    self.mlp_head = nn.Sequential(\n",
        "        nn.LayerNorm(embed_dim),\n",
        "        nn.Linear(embed_dim, num_classes)\n",
        "    )\n",
        "    self.dropout = nn.Dropout(dropout)\n",
        "\n",
        "    #Parameters / Embeddings\n",
        "    self.cls_token = nn.Parameter(\n",
        "        torch.randn(1,1,embed_dim)\n",
        "    )\n",
        "    self.pos_embedd = nn.Parameter(\n",
        "        torch.randn(1,1+num_patches, embed_dim)\n",
        "    )\n",
        "\n",
        "  def forward(self, x):\n",
        "    x = img_to_patch(x,self.patch_size)\n",
        "    B, T, _ = x.shape\n",
        "    x = self.input_layer(x)\n",
        "\n",
        "    cls_token = self.cls_token.repeat(B,1,1)\n",
        "    x = torch.cat([cls_token,x],dim=1)\n",
        "    x = x + self.pos_embedding[:,:T+1]\n",
        "\n",
        "    x = self.dropout(x)\n",
        "    x = x.transpose(0,1)\n",
        "    x = self.transformer(x)\n",
        "\n",
        "    cls = x[0]\n",
        "    out = self.mlp_head(cls)\n",
        "    return out\n"
      ],
      "metadata": {
        "id": "8bXSqBaGr_xq"
      },
      "execution_count": null,
      "outputs": []
    },
    {
      "cell_type": "code",
      "source": [
        "import torch.nn.functional as F\n",
        "import torch.optim as optim\n",
        "\n",
        "class ViT(pl.LightningModule):\n",
        "  def __init__(self, model_kwargs, lr):\n",
        "    super().__init__()\n",
        "    self.save_hyperparameters()\n",
        "    self.model = VisionTransformer(**model_kwargs)\n",
        "\n",
        "  def forward(self, x):\n",
        "    return self.model(x)\n",
        "\n",
        "  def configure_optimizers(self):\n",
        "    optimizer = optim.AdamW(self.parameters(), lr=self.hparams.lr)\n",
        "    lr_scheduler = optim.lr_scheduler.MultiStepLR(\n",
        "        optimizer, milestones=[100,150], gamma=0.1\n",
        "    )\n",
        "    return [optimizer],[lr_scheduler]\n",
        "\n",
        "  def _calculate_loss(self, batch, mode=\"train\"):\n",
        "    imgs, labels = batch\n",
        "    preds = self.model(imgs)\n",
        "    loss = F.cross_entropy(preds, labels)\n",
        "    acc = (preds.argmax(dim=-1)==labels).float().mean()\n",
        "\n",
        "    self.log(\"%s_loss\"%mode, loss, prog_bar=True)\n",
        "    self.log(\"%s_acc\"%mode, acc, prog_bar=True)\n",
        "    return loss\n",
        "\n",
        "  def training_step(self, batch, batch_idx):\n",
        "    loss = self._calculate_loss(batch, mode=\"train\")\n",
        "    return loss\n",
        "  def validation_steps(self, batch, batch_idx):\n",
        "    self._calculate_loss(batch, mode=\"val\")\n",
        "  def test_step(self, batch, batch_idx):\n",
        "    self._calculate_loss(batch, mode=\"test\")\n"
      ],
      "metadata": {
        "id": "JWZ34DSau6Z4"
      },
      "execution_count": null,
      "outputs": []
    },
    {
      "cell_type": "code",
      "source": [
        "CHECKPOINT_PATH = os.environ.get(\n",
        "    \"PATH_CHECKPOINT\",\n",
        "    \"saved_models/VisionTransformers/\"\n",
        ")\n",
        "\n",
        "def train_model(**kwards):\n",
        "  trainer = pl.Trainer(\n",
        "      default_root_dir = os.path.join(CHECKPOINT_PATH, \"ViT\"),\n",
        "      fast_dev_run=5,\n",
        "  )\n",
        "\n",
        "  pl.seed_everything(42)\n",
        "  model = ViT(**kwargs)\n",
        "  trainer.fit(model, train_loader, val_loader)\n",
        "  test_result = trainer.test(\n",
        "      model, dataloaders = test_loader, verbose=False\n",
        "  )\n",
        "  return model, test_result\n"
      ],
      "metadata": {
        "id": "mMckFXWwx6pG"
      },
      "execution_count": null,
      "outputs": []
    },
    {
      "cell_type": "code",
      "source": [
        "model, results = train_model(\n",
        "    model_kwargs={\n",
        "        \"embed_dim\":256,\n",
        "        \"hidden_dim\":512,\n",
        "        \"num_heads\":8,\n",
        "        \"num_layers\":6,\n",
        "        \"patch_size\":4,\n",
        "        \"num_channels\":3,\n",
        "        \"num_patches\":64,\n",
        "        \"num_classes\":10,\n",
        "        \"dropout\":0.2,\n",
        "    },\n",
        "    lr=3e-4,\n",
        ")\n",
        "print(\"Results\", results)"
      ],
      "metadata": {
        "id": "R8wBHc2LzOS3"
      },
      "execution_count": null,
      "outputs": []
    }
  ]
}